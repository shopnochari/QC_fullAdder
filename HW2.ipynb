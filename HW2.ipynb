{
 "cells": [
  {
   "cell_type": "markdown",
   "id": "9c9a22bc-1315-4571-96cd-ebc368eb94f1",
   "metadata": {
    "tags": []
   },
   "source": [
    "# **Task**\n",
    "\n",
    "I would like to make a quantum circuit that performs the addition of 1+1= 2 .\n"
   ]
  },
  {
   "cell_type": "markdown",
   "id": "75820028-88b3-42f0-b4e1-736a2772a46c",
   "metadata": {},
   "source": [
    "# **How ?**\n",
    " I am not sure. But may be doing their own research and practices."
   ]
  },
  {
   "cell_type": "markdown",
   "id": "9b545182-aa55-4e7c-ae6b-dff3778013c8",
   "metadata": {},
   "source": [
    "# **Methods**\n",
    "* I started with studying the class lecture notes.  \n",
    "* I also use google to find articles, discussions and forums regarding the  problem.\n",
    "* I start doing example on the IBM Qiskit composer .\n"
   ]
  },
  {
   "cell_type": "markdown",
   "id": "92820676-3a96-4430-b1fd-e5fa9eb0548a",
   "metadata": {},
   "source": [
    "# **Outcome**\n",
    "* At first its little difficult to understand the circuit and outcome\n",
    "* But after some trials and errors eventually I get my expected circuit.\n"
   ]
  },
  {
   "cell_type": "markdown",
   "id": "e9e94a64-419d-4b16-8a21-7890ad721acb",
   "metadata": {},
   "source": [
    "# **Outlook**\n",
    "* It would be nice to have parallel windows of visual and codes together so that we can see and learn the coding in QC. "
   ]
  },
  {
   "cell_type": "code",
   "execution_count": null,
   "id": "d76b4a44-5c48-4f46-b7ec-df861c4261f9",
   "metadata": {},
   "outputs": [],
   "source": []
  }
 ],
 "metadata": {
  "kernelspec": {
   "display_name": "Qiskit v0.30.1 (ipykernel)",
   "language": "python",
   "name": "python3"
  },
  "language_info": {
   "codemirror_mode": {
    "name": "ipython",
    "version": 3
   },
   "file_extension": ".py",
   "mimetype": "text/x-python",
   "name": "python",
   "nbconvert_exporter": "python",
   "pygments_lexer": "ipython3",
   "version": "3.8.10"
  },
  "widgets": {
   "application/vnd.jupyter.widget-state+json": {
    "state": {},
    "version_major": 2,
    "version_minor": 0
   }
  }
 },
 "nbformat": 4,
 "nbformat_minor": 5
}
